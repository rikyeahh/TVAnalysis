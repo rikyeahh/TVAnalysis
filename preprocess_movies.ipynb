{
 "cells": [
  {
   "cell_type": "code",
   "execution_count": 2,
   "metadata": {},
   "outputs": [],
   "source": [
    "from dotenv import load_dotenv\n",
    "import os\n",
    "import tvdb_v4_official\n",
    "import pandas as pd\n",
    "import tqdm\n",
    "\n",
    "load_dotenv()\n",
    "tvdb = tvdb_v4_official.TVDB(os.getenv('TVDB_API_KEY'))"
   ]
  },
  {
   "cell_type": "markdown",
   "metadata": {},
   "source": [
    "# Initial preprocessing"
   ]
  },
  {
   "cell_type": "code",
   "execution_count": null,
   "metadata": {},
   "outputs": [],
   "source": [
    "movies = pd.read_csv(r\".\\relevant_data\\tracking_movies.csv\")\n",
    "movies = movies[movies[\"entity_type\"] == \"movie\"]\n",
    "movies = movies[[\"updated_at\", \"movie_name\", \"release_date\", \"type\"]]\n",
    "print(movies.shape)"
   ]
  },
  {
   "cell_type": "code",
   "execution_count": null,
   "metadata": {},
   "outputs": [],
   "source": [
    "# for each values in the movie_name column, set the release date to the latest release date of the movie\n",
    "for movie_name in tqdm.tqdm(movies[\"movie_name\"].unique()):\n",
    "    release_date = movies[movies[\"movie_name\"] == movie_name][\"release_date\"].max()\n",
    "    movies.loc[movies[\"movie_name\"] == movie_name, \"release_date\"] = release_date\n",
    "\n",
    "for movie_name in tqdm.tqdm(movies[\"movie_name\"].unique()):\n",
    "    added_date = movies[(movies[\"movie_name\"] == movie_name) & (movies[\"type\"] == \"follow\")][\"updated_at\"].min()\n",
    "    movies.loc[movies[\"movie_name\"] == movie_name, \"added_date\"] = added_date\n",
    "\n",
    "movies = movies[movies[\"type\"] == \"watch\"]\n",
    "movies = movies.drop(columns=[\"type\"])"
   ]
  },
  {
   "cell_type": "code",
   "execution_count": null,
   "metadata": {},
   "outputs": [],
   "source": [
    "# join with votes\n",
    "votes = pd.read_csv(r\"C:\\Users\\rik\\Desktop\\TVAnalysis\\relevant_data\\ratings_movies.csv\")[[\"movie_name\", \"vote_key\"]]\n",
    "votes[\"vote_key\"] = votes[\"vote_key\"].apply(lambda x: x.split(\"-\")[-1])\n",
    "# weird values remapping\n",
    "votes[\"vote_key\"] = votes[\"vote_key\"].replace({\"1\": 1, \"27\": 2, \"28\": 3, \"29\": 4, \"3\": 5})\n",
    "movies = movies.merge(votes, left_on=\"movie_name\", right_on=\"movie_name\", how=\"left\")\n",
    "movies[\"vote_key\"] = movies[\"vote_key\"].fillna(0)\n",
    "movies.head(2)"
   ]
  },
  {
   "cell_type": "code",
   "execution_count": 26,
   "metadata": {},
   "outputs": [],
   "source": [
    "movies.rename(columns={\"movie_name\": \"title\",\n",
    "                       \"updated_at\": \"seen_date\",\n",
    "                       \"vote_key\": \"stars\"}, inplace=True)"
   ]
  },
  {
   "cell_type": "code",
   "execution_count": 27,
   "metadata": {},
   "outputs": [],
   "source": [
    "movies.to_csv(r\".\\data_refinement\\movies_step0.csv\", index=False)\n",
    "movies.to_excel(r\".\\data_refinement\\movies_step0.xlsx\", index=False)"
   ]
  },
  {
   "cell_type": "markdown",
   "metadata": {},
   "source": [
    "# Get info via API"
   ]
  },
  {
   "cell_type": "markdown",
   "metadata": {},
   "source": [
    "## Get the tvdb id for each movie by querying via title"
   ]
  },
  {
   "cell_type": "code",
   "execution_count": 54,
   "metadata": {},
   "outputs": [],
   "source": [
    "movies = pd.read_csv(r\".\\data_refinement\\movies_step0.csv\")"
   ]
  },
  {
   "cell_type": "code",
   "execution_count": 55,
   "metadata": {},
   "outputs": [],
   "source": [
    "id_fixes = {\n",
    "    \"Guardians\": [4028, \"\"\"During the Cold War, a secret organization known as \"Patriot\" gathers a team of Soviet superheroes, altering and augmenting the DNA of many selected individuals throughout the former state's territory, in order to defend the homeland from superhuman threats. The team includes representatives of the different nationalities of the Soviet Union and allegedly implies restoration of former USSR. Arseniy, codenamed Ursus (Anton Pampushny), can change into a huge, incredibly strong bear-man. Temirkhan, codenamed Khan (Sanjar Madi), has super-speed and wields a pair of curved swords. Lernik, codenamed Ler (Sebastien Sisak), has the ability to control earth and stone. Finally, Xenia (Alina Lanina) has the power of invisibility and can transform her body into water.\"\"\"],\n",
    "    \"STAND BY ME ドラえもん\": [6355, \"\"\"Noby Nobi is a fourth grader who constantly gets failing grades in his subjects due to his laziness and is always bullied by his classmates Sneech and Big G. His great-great grandson from the 22nd century, Soby, who watches him every day, travels to Noby's timeline while bringing along his robotic cat Doraemon. Soby reveals that if Noby keeps up his act, he will have a disastrous future: he will marry Big G's sister Little G, have his private company burned down, and will be left with a great debt. To circumvent this, he orders Doraemon to help Noby, modifying Doraemon's code to prevent him from returning to the future unless Noby gains a better future.\"\"\"],\n",
    "    \"Erax\": [332587, \"\"\"Monstrous creatures leap from a magical storybook and unleash mayhem and mischief for Auntie Opal and her tween niece Nina.\"\"\"],\n",
    "    \"The Thief and the Cobbler\": [15517, \"\"\"The film opens with a narrator describing a prosperous city called the Golden City, ruled by the sleepy King Nod and protected by three golden balls atop its tallest minaret. According to a prophecy, the city would fall to a race of warlike, one-eyed monsters, known as \"One-Eyes\", should the balls be removed, and could only be saved by \"the simplest soul with the smallest and simplest of things\". Living in the city are the good-hearted Shoemaking Tack, named for the ubiquitous pair of tacks held in his mouth, and a nameless, unsuccessful yet persistent thief.\"\"\"],\n",
    "    \"Snowpiercer\": [1502, \"\"\"In 2014, an attempt to counteract global warming through climate engineering backfires catastrophically, and the Earth has entered a new ice age. The only survivors are on the \"Snowpiercer,\" a massive train traveling on a circumnavigational track. Years later, the train has undergone huge economical stratification where the poor endure brutal conditions and the wealthy bask in opulence, which all comes to a head when a young charismatic leader launches a rebellion on board.\"\"\"],\n",
    "}"
   ]
  },
  {
   "cell_type": "code",
   "execution_count": 56,
   "metadata": {},
   "outputs": [],
   "source": [
    "def get_movie_id_and_overview(obj):\n",
    "    movie_id = obj[\"tvdb_id\"]\n",
    "    if \"overview\" in obj.keys():\n",
    "        overview = obj[\"overview\"]\n",
    "    elif (\"overviews\" in obj.keys()) and (\"eng\" in obj[\"overviews\"].keys()):\n",
    "        overview = obj[\"overviews\"][\"eng\"]\n",
    "    else:\n",
    "        overview = \"\"\n",
    "    return movie_id, overview"
   ]
  },
  {
   "cell_type": "code",
   "execution_count": null,
   "metadata": {},
   "outputs": [],
   "source": [
    "for index, row in tqdm.tqdm(movies.iterrows(), total=movies.shape[0]):\n",
    "    name = row[\"title\"]\n",
    "    search_results = tvdb.search(name)\n",
    "    results_names = [result[\"name\"] for result in search_results]\n",
    "    equal_names = [n for n in results_names if n == name]\n",
    "    # manual fixes\n",
    "    if name in id_fixes.keys():\n",
    "        movie_id, descripiton = id_fixes[name][0], id_fixes[name][1]\n",
    "    # when there are multiple names with the same title\n",
    "    if len(equal_names) == 1:\n",
    "        name_index = results_names.index(equal_names[0])\n",
    "        movie_id, description = get_movie_id_and_overview(search_results[name_index])\n",
    "    # not found\n",
    "    elif len(search_results) < 1:\n",
    "        print(\"No results found for\", name)\n",
    "        movie_id, description = 0, \"\"\n",
    "    # just 1 result or no date basis to discriminate\n",
    "    elif (len(search_results) == 1) or (str(row[\"release_date\"]) == \"nan\"):\n",
    "        movie_id, description = get_movie_id_and_overview(search_results[0])\n",
    "    # multiple results with the same name, but (possibly) different release years\n",
    "    elif len(search_results) > 1:\n",
    "        found = False\n",
    "        year = row[\"release_date\"].split(\"-\")[0]\n",
    "        for result in search_results:\n",
    "            if (\"first_air_time\" in result.keys())\\\n",
    "                and (result[\"type\"] == \"movie\")\\\n",
    "                and (result[\"first_air_time\"].split(\"-\")[0] == year):\n",
    "                movie_id, description = get_movie_id_and_overview(result)\n",
    "                found = True\n",
    "                break\n",
    "        if not found:\n",
    "            movie_id, description = get_movie_id_and_overview(search_results[0])\n",
    "\n",
    "    movies.loc[index, \"tvdb_id\"] = movie_id\n",
    "    movies.loc[index, \"description\"] = description\n",
    "\n",
    "movies = movies[movies[\"tvdb_id\"] != 0]"
   ]
  },
  {
   "cell_type": "code",
   "execution_count": null,
   "metadata": {},
   "outputs": [],
   "source": [
    "movies = movies.drop_duplicates()\n",
    "# see duplicates\n",
    "movies[movies[\"tvdb_id\"].duplicated(keep=False)].sort_values(\"tvdb_id\")"
   ]
  },
  {
   "cell_type": "code",
   "execution_count": null,
   "metadata": {},
   "outputs": [],
   "source": [
    "# drop duplicates base on tvdb_id, keeping the one with lowest seen_date\n",
    "movies = movies.sort_values(\"seen_date\")\n",
    "movies = movies.drop_duplicates(\"tvdb_id\", keep=\"first\")\n",
    "movies"
   ]
  },
  {
   "cell_type": "code",
   "execution_count": 60,
   "metadata": {},
   "outputs": [],
   "source": [
    "movies.to_csv(r\".\\data_refinement\\movies_step1.csv\", index=False)\n",
    "movies.to_excel(r\".\\data_refinement\\movies_step1.xlsx\", index=False)"
   ]
  },
  {
   "cell_type": "markdown",
   "metadata": {},
   "source": [
    "## Get the interesting information for each movie"
   ]
  },
  {
   "cell_type": "code",
   "execution_count": 61,
   "metadata": {},
   "outputs": [],
   "source": [
    "movies = pd.read_csv(r\".\\data_refinement\\movies_step1.csv\")"
   ]
  },
  {
   "cell_type": "code",
   "execution_count": null,
   "metadata": {},
   "outputs": [],
   "source": [
    "keys = tvdb.get_movie_extended(31).keys()\n",
    "keys"
   ]
  },
  {
   "cell_type": "code",
   "execution_count": null,
   "metadata": {},
   "outputs": [],
   "source": [
    "res = []\n",
    "for index, row in tqdm.tqdm(movies.iterrows(), total=movies.shape[0]):\n",
    "    movie_id = row[\"tvdb_id\"]\n",
    "    try:\n",
    "        data = tvdb.get_movie_extended(movie_id)\n",
    "    except:\n",
    "        print(\"Error in getting details for\", movie_id)\n",
    "        data = {k: \"\" for k in keys}\n",
    "    res.append(data)\n",
    "res = pd.DataFrame(res)"
   ]
  },
  {
   "cell_type": "code",
   "execution_count": null,
   "metadata": {},
   "outputs": [],
   "source": [
    "movies[\"tvdb_id\"] = movies[\"tvdb_id\"].fillna(\"0\").astype(int)\n",
    "movies = movies.merge(res, left_on=\"tvdb_id\", right_on=\"id\", how=\"left\")\n",
    "movies = movies[movies[\"name\"].notna()]\n",
    "movies.shape"
   ]
  },
  {
   "cell_type": "code",
   "execution_count": 68,
   "metadata": {},
   "outputs": [],
   "source": [
    "movies.to_csv(r\"./data_refinement/movies_step2.csv\", index=False)\n",
    "movies.to_excel(r\"./data_refinement/movies_step2.xlsx\", index=False)"
   ]
  },
  {
   "cell_type": "markdown",
   "metadata": {},
   "source": [
    "# Power BI formatting"
   ]
  },
  {
   "cell_type": "code",
   "execution_count": 125,
   "metadata": {},
   "outputs": [
    {
     "data": {
      "text/html": [
       "<div>\n",
       "<style scoped>\n",
       "    .dataframe tbody tr th:only-of-type {\n",
       "        vertical-align: middle;\n",
       "    }\n",
       "\n",
       "    .dataframe tbody tr th {\n",
       "        vertical-align: top;\n",
       "    }\n",
       "\n",
       "    .dataframe thead th {\n",
       "        text-align: right;\n",
       "    }\n",
       "</style>\n",
       "<table border=\"1\" class=\"dataframe\">\n",
       "  <thead>\n",
       "    <tr style=\"text-align: right;\">\n",
       "      <th></th>\n",
       "      <th>seen_date</th>\n",
       "      <th>title</th>\n",
       "      <th>release_date</th>\n",
       "      <th>added_date</th>\n",
       "      <th>stars</th>\n",
       "      <th>tvdb_id</th>\n",
       "      <th>description</th>\n",
       "      <th>id</th>\n",
       "      <th>name</th>\n",
       "      <th>slug</th>\n",
       "      <th>...</th>\n",
       "      <th>studios</th>\n",
       "      <th>awards</th>\n",
       "      <th>tagOptions</th>\n",
       "      <th>lists</th>\n",
       "      <th>contentRatings</th>\n",
       "      <th>companies</th>\n",
       "      <th>production_countries</th>\n",
       "      <th>inspirations</th>\n",
       "      <th>spoken_languages</th>\n",
       "      <th>first_release</th>\n",
       "    </tr>\n",
       "  </thead>\n",
       "  <tbody>\n",
       "    <tr>\n",
       "      <th>0</th>\n",
       "      <td>2019-11-04 19:12:07</td>\n",
       "      <td>Interstellar</td>\n",
       "      <td>2014-11-05 00:00:00</td>\n",
       "      <td>2019-11-04 19:11:59</td>\n",
       "      <td>5.0</td>\n",
       "      <td>131079</td>\n",
       "      <td>With humanity teetering on the brink of extinc...</td>\n",
       "      <td>131079</td>\n",
       "      <td>Interstellar</td>\n",
       "      <td>interstellar</td>\n",
       "      <td>...</td>\n",
       "      <td>[{'id': 29, 'name': 'Warner Bros. Pictures', '...</td>\n",
       "      <td>[{'id': 132941, 'year': '2015', 'details': Non...</td>\n",
       "      <td>NaN</td>\n",
       "      <td>[{'id': 7540, 'name': 'Nolan', 'overview': '.....</td>\n",
       "      <td>[{'id': 252, 'name': 'SAM13', 'country': 'arg'...</td>\n",
       "      <td>{'studio': [{'id': 2063, 'name': 'Paramount Pi...</td>\n",
       "      <td>[{'id': 261788, 'country': 'gbr', 'name': 'Gre...</td>\n",
       "      <td>[]</td>\n",
       "      <td>['eng']</td>\n",
       "      <td>{'country': 'global', 'date': '2014-11-05', 'd...</td>\n",
       "    </tr>\n",
       "    <tr>\n",
       "      <th>1</th>\n",
       "      <td>2019-11-04 19:12:14</td>\n",
       "      <td>Avengers: Endgame</td>\n",
       "      <td>2019-04-24 00:00:00</td>\n",
       "      <td>2019-11-04 19:11:52</td>\n",
       "      <td>4.0</td>\n",
       "      <td>148</td>\n",
       "      <td>The epic conclusion to the Infinity Saga that ...</td>\n",
       "      <td>148</td>\n",
       "      <td>Avengers: Endgame</td>\n",
       "      <td>avengers-endgame</td>\n",
       "      <td>...</td>\n",
       "      <td>[{'id': 28, 'name': 'Walt Disney Studios', 'pa...</td>\n",
       "      <td>[{'id': 138626, 'year': '2019', 'details': Non...</td>\n",
       "      <td>[{'id': 178, 'tag': 10, 'tagName': 'Relationsh...</td>\n",
       "      <td>[{'id': 4, 'name': 'Marvel Cinematic Universe'...</td>\n",
       "      <td>[{'id': 279, 'name': '12', 'country': 'bra', '...</td>\n",
       "      <td>{'studio': [{'id': 2075, 'name': 'Walt Disney ...</td>\n",
       "      <td>[{'id': 272327, 'country': 'usa', 'name': 'Uni...</td>\n",
       "      <td>[]</td>\n",
       "      <td>['eng', 'jpn', 'xho', 'deu']</td>\n",
       "      <td>{'country': 'grc', 'date': '2019-04-24', 'deta...</td>\n",
       "    </tr>\n",
       "  </tbody>\n",
       "</table>\n",
       "<p>2 rows × 42 columns</p>\n",
       "</div>"
      ],
      "text/plain": [
       "             seen_date              title         release_date  \\\n",
       "0  2019-11-04 19:12:07       Interstellar  2014-11-05 00:00:00   \n",
       "1  2019-11-04 19:12:14  Avengers: Endgame  2019-04-24 00:00:00   \n",
       "\n",
       "            added_date  stars  tvdb_id  \\\n",
       "0  2019-11-04 19:11:59    5.0   131079   \n",
       "1  2019-11-04 19:11:52    4.0      148   \n",
       "\n",
       "                                         description      id  \\\n",
       "0  With humanity teetering on the brink of extinc...  131079   \n",
       "1  The epic conclusion to the Infinity Saga that ...     148   \n",
       "\n",
       "                name              slug  ...  \\\n",
       "0       Interstellar      interstellar  ...   \n",
       "1  Avengers: Endgame  avengers-endgame  ...   \n",
       "\n",
       "                                             studios  \\\n",
       "0  [{'id': 29, 'name': 'Warner Bros. Pictures', '...   \n",
       "1  [{'id': 28, 'name': 'Walt Disney Studios', 'pa...   \n",
       "\n",
       "                                              awards  \\\n",
       "0  [{'id': 132941, 'year': '2015', 'details': Non...   \n",
       "1  [{'id': 138626, 'year': '2019', 'details': Non...   \n",
       "\n",
       "                                          tagOptions  \\\n",
       "0                                                NaN   \n",
       "1  [{'id': 178, 'tag': 10, 'tagName': 'Relationsh...   \n",
       "\n",
       "                                               lists  \\\n",
       "0  [{'id': 7540, 'name': 'Nolan', 'overview': '.....   \n",
       "1  [{'id': 4, 'name': 'Marvel Cinematic Universe'...   \n",
       "\n",
       "                                      contentRatings  \\\n",
       "0  [{'id': 252, 'name': 'SAM13', 'country': 'arg'...   \n",
       "1  [{'id': 279, 'name': '12', 'country': 'bra', '...   \n",
       "\n",
       "                                           companies  \\\n",
       "0  {'studio': [{'id': 2063, 'name': 'Paramount Pi...   \n",
       "1  {'studio': [{'id': 2075, 'name': 'Walt Disney ...   \n",
       "\n",
       "                                production_countries inspirations  \\\n",
       "0  [{'id': 261788, 'country': 'gbr', 'name': 'Gre...           []   \n",
       "1  [{'id': 272327, 'country': 'usa', 'name': 'Uni...           []   \n",
       "\n",
       "               spoken_languages  \\\n",
       "0                       ['eng']   \n",
       "1  ['eng', 'jpn', 'xho', 'deu']   \n",
       "\n",
       "                                       first_release  \n",
       "0  {'country': 'global', 'date': '2014-11-05', 'd...  \n",
       "1  {'country': 'grc', 'date': '2019-04-24', 'deta...  \n",
       "\n",
       "[2 rows x 42 columns]"
      ]
     },
     "execution_count": 125,
     "metadata": {},
     "output_type": "execute_result"
    }
   ],
   "source": [
    "movies = pd.read_csv(r\"./data_refinement/movies_step2.csv\")\n",
    "movies.head(2)"
   ]
  },
  {
   "cell_type": "code",
   "execution_count": 126,
   "metadata": {},
   "outputs": [],
   "source": [
    "for col in [\"stars\", \"runtime\", \"budget\", \"boxOffice\"]:\n",
    "    movies[col] = movies[col].fillna(0).astype(int)\n",
    "cols_to_drop = [\"tvdb_id\", \"nameTranslations\", \"overviewTranslations\", \"score\", \"status\", \"lastUpdated\", \"releases\", \"remoteIds\", \"boxOfficeUS\", \"audioLanguages\", \"subtitleLanguages\", \"lists\"]\n",
    "movies = movies.drop(columns=cols_to_drop)"
   ]
  },
  {
   "cell_type": "code",
   "execution_count": null,
   "metadata": {},
   "outputs": [],
   "source": [
    "col_to_explode = [\"aliases\", \"trailers\", \"genres\", \"artworks\", \"characters\", \"studios\", \"awards\", \"tagOptions\", \"contentRatings\", \"companies\", \"production_countries\", \"inspirations\", \"spoken_languages\"]"
   ]
  },
  {
   "cell_type": "code",
   "execution_count": null,
   "metadata": {},
   "outputs": [],
   "source": [
    "for col in col_to_explode:\n",
    "    movies[col] = movies[col].apply(lambda x: [y[\"name\"] for y in eval(x)])"
   ]
  },
  {
   "cell_type": "code",
   "execution_count": null,
   "metadata": {},
   "outputs": [],
   "source": [
    "movies = pd.read_csv(r\"./data_refinement/movies_step3_power_bi.csv\")"
   ]
  },
  {
   "cell_type": "markdown",
   "metadata": {},
   "source": [
    "# Format data extracting only interesting aspects"
   ]
  },
  {
   "cell_type": "code",
   "execution_count": null,
   "metadata": {},
   "outputs": [],
   "source": [
    "# read again\n",
    "movies = pd.read_csv(r\"./data_refinement/movies_step2.csv\")\n",
    "movies.head(3)"
   ]
  },
  {
   "cell_type": "code",
   "execution_count": 236,
   "metadata": {},
   "outputs": [],
   "source": [
    "# genres\n",
    "movies[\"genres\"] = movies[\"genres\"].fillna(\"[]\").apply(lambda x: [g[\"slug\"] for g in eval(x)])"
   ]
  },
  {
   "cell_type": "code",
   "execution_count": 237,
   "metadata": {},
   "outputs": [],
   "source": [
    "# awards\n",
    "movies[\"awards_won\"] = movies[\"awards\"].fillna(\"[]\").apply(lambda x: eval(x)).apply(lambda x: [g[\"name\"] + \" - \" + g[\"category\"] for g in x if g[\"isWinner\"]])\n",
    "movies[\"awards_candidate\"] = movies[\"awards\"].fillna(\"[]\").apply(lambda x: eval(x)).apply(lambda x: [g[\"name\"] + \" - \" + g[\"category\"] for g in x])\n",
    "movies[\"n_awards_won\"] = movies[\"awards_won\"].apply(lambda x: len(x))\n",
    "movies[\"n_awards_candidate\"] = movies[\"awards_candidate\"].apply(lambda x: len(x))\n",
    "movies = movies.drop(columns=[\"awards\"])"
   ]
  },
  {
   "cell_type": "code",
   "execution_count": null,
   "metadata": {},
   "outputs": [],
   "source": [
    "# tags\n",
    "tag_types = movies[\"tagOptions\"].fillna(\"[]\").apply(lambda x: eval(x)).apply(lambda x: [g[\"tagName\"] for g in x]).explode()\n",
    "tag_types = tag_types.unique().tolist()\n",
    "# remove nan\n",
    "tag_types = [x for x in tag_types if str(x) != 'nan']\n",
    "for tag_type in tag_types:\n",
    "    print(tag_type)\n",
    "    movies[tag_type.lower().replace(\" \", \"_\")] = movies[\"tagOptions\"].fillna(\"[]\").apply(lambda x: eval(x)).apply(lambda x: [g[\"name\"] for g in x if g[\"tagName\"] == tag_type])\n",
    "movies = movies.drop(columns=[\"tagOptions\"])"
   ]
  },
  {
   "cell_type": "code",
   "execution_count": null,
   "metadata": {},
   "outputs": [],
   "source": [
    "movies[\"contentRatings\"] = movies[\"contentRatings\"].fillna(\"[]\").apply(lambda x: eval(x)).apply(lambda x: [g[\"name\"] for g in x if g[\"country\"] == \"usa\"])\n",
    "movies[\"contentRatings\"] = movies[\"contentRatings\"].apply(lambda x: x[0] if len(x) > 0 else \"\").apply(lambda x: x.replace(\"TV-\", \"\"))\n",
    "movies[\"contentRatings\"] = movies[\"contentRatings\"].replace({\"MA\": \"NC-17\"})\n",
    "# replace all values not in [\"G\", \"PG\", \"PG-13\", \"R\", \"NC-17\"] with \"\"\n",
    "movies[\"contentRatings\"] = movies[\"contentRatings\"].apply(lambda x: x if x in [\"G\", \"PG\", \"PG-13\", \"R\", \"NC-17\"] else \"\")\n",
    "movies[\"contentRatings\"].value_counts()"
   ]
  },
  {
   "cell_type": "code",
   "execution_count": null,
   "metadata": {},
   "outputs": [],
   "source": [
    "studio = movies[\"companies\"].fillna(\"[]\").apply(lambda x: eval(x)).apply(lambda x: x[\"studio\"])\n",
    "studio = studio.apply(lambda x: x[0][\"slug\"] if len(x) > 0 else \"\")\n",
    "movies = movies.drop(columns=[\"companies\"])\n",
    "movies[\"studio\"] = studio\n",
    "movies[\"studio\"].value_counts()"
   ]
  },
  {
   "cell_type": "code",
   "execution_count": null,
   "metadata": {},
   "outputs": [],
   "source": [
    "# characters\n",
    "roles = movies[\"characters\"].fillna(\"[]\").apply(lambda x: eval(x))\n",
    "roles = roles.apply(lambda x: [g[\"peopleType\"] for g in x])\n",
    "# unique and remove nan\n",
    "roles = roles.explode().unique().tolist()\n",
    "roles = [x for x in roles if str(x) != 'nan']\n",
    "movies[\"actor\"] = \"\"\n",
    "movies[\"actors_not_featured\"] = \"\"\n",
    "\n",
    "for role in roles:\n",
    "    print(role)\n",
    "    movies[role.lower().replace(\" \", \"_\")] = movies[\"characters\"].fillna(\"[]\").apply(lambda x: eval(x)).apply(lambda x: [g[\"personName\"] for g in x if g[\"peopleType\"] == role])\n",
    "\n",
    "for i, row in movies.iterrows():\n",
    "    actors = row[\"characters\"]\n",
    "    if str(actors) == \"nan\":\n",
    "        actors = \"[]\"\n",
    "    actors = eval(actors)\n",
    "    real_actors = [a[\"personName\"] for a in actors if (a[\"peopleType\"] == \"Actor\") and (a[\"isFeatured\"])]\n",
    "    voice_actors = [a[\"personName\"] for a in actors if (a[\"peopleType\"] == \"Actor\") and (not a[\"isFeatured\"])]\n",
    "    movies.at[i, \"actor\"] = real_actors\n",
    "    movies.at[i, \"actors_not_featured\"] = voice_actors\n",
    "\n",
    "movies = movies.drop(columns=[\"characters\"])"
   ]
  },
  {
   "cell_type": "code",
   "execution_count": 243,
   "metadata": {},
   "outputs": [],
   "source": [
    "# fix column names for ease of use\n",
    "remapped_columns = {\n",
    "    \"updated_at\": \"seen_date\",\n",
    "    \"slug\": \"title\",\n",
    "    \"tvdb_id\": \"id\",\n",
    "    \"vote_key\": \"stars\",\n",
    "}\n",
    "col_to_remove = [\"score\", \"studios\", \"creator\", \"musical_guest\", \"crew\", \"executive_producer\"]\n",
    "movies = movies.rename(columns=remapped_columns)\n",
    "movies = movies.drop(columns=col_to_remove)\n",
    "movies = movies.drop_duplicates([\"title\"])"
   ]
  },
  {
   "cell_type": "code",
   "execution_count": 244,
   "metadata": {},
   "outputs": [],
   "source": [
    "movies.to_csv(r\"./movies_step2.csv\", index=False)\n",
    "movies.to_excel(r\"./movies_step2.xlsx\", index=False)\n",
    "movies.to_json(r\"./movies_step2.json\", orient=\"records\", lines=True)"
   ]
  },
  {
   "cell_type": "markdown",
   "metadata": {},
   "source": [
    "# step 2 cleaning"
   ]
  },
  {
   "cell_type": "code",
   "execution_count": 197,
   "metadata": {},
   "outputs": [],
   "source": [
    "movies = pd.read_csv(r\"./movies_step2.csv\")\n",
    "movies[\"writer\"] = movies[\"writer\"].apply(lambda x: eval(x))\n",
    "movies[\"is_short\"] = movies[\"movie_type_or_format\"].apply(lambda x: \"Short\" in eval(x))\n",
    "# delete movie_type_or_format\n",
    "movies = movies.drop(columns=[\"movie_type_or_format\"])"
   ]
  },
  {
   "cell_type": "code",
   "execution_count": 198,
   "metadata": {},
   "outputs": [],
   "source": [
    "def remove_useless_genres(x, subgenre):\n",
    "    if len(x) > 1:\n",
    "        if subgenre in x:\n",
    "            x.remove(subgenre)\n",
    "    return x\n",
    "\n",
    "movies[\"sub-genre\"] = movies[\"sub-genre\"].fillna(\"[]\").apply(lambda x: eval(x)).apply(lambda x: remove_useless_genres(x, \"Adaptation\")).fillna(\"\")\n",
    "movies[\"sub-genre\"] = movies[\"sub-genre\"].apply(lambda x: remove_useless_genres(x, \"Blockbuster\")).fillna(\"\")\n",
    "movies[\"sub-genre\"] = movies[\"sub-genre\"].apply(lambda x: remove_useless_genres(x, \"Cult\")).fillna(\"\")\n",
    "movies[\"sub-genre\"] = movies[\"sub-genre\"].apply(lambda x: remove_useless_genres(x, \"Nature\")).fillna(\"\")\n",
    "movies[\"sub-genre\"] = movies[\"sub-genre\"].apply(lambda x: remove_useless_genres(x, \"Period\")).fillna(\"\")\n",
    "movies[\"sub-genre\"] = movies[\"sub-genre\"].apply(lambda x: remove_useless_genres(x, \"Critically Acclaimed\")).fillna(\"\")\n",
    "movies[\"sub-genre\"] = movies[\"sub-genre\"].apply(lambda x: x[0] if len(x) > 0 else \"\").fillna(\"\")"
   ]
  },
  {
   "cell_type": "code",
   "execution_count": 199,
   "metadata": {},
   "outputs": [],
   "source": [
    "# take just the first element from columns geographic_location, social_topics, time_period, mood_or_tone, credit_scenes\n",
    "movies[\"geographic_location\"] = movies[\"geographic_location\"].fillna(\"[]\").apply(lambda x: eval(x)).apply(lambda x: x[0] if len(x) > 0 else \"\")\n",
    "movies[\"social_topics\"] = movies[\"social_topics\"].fillna(\"[]\").apply(lambda x: eval(x)).apply(lambda x: x[0] if len(x) > 0 else \"\")\n",
    "movies[\"time_period\"] = movies[\"time_period\"].fillna(\"[]\").apply(lambda x: eval(x)).apply(lambda x: x[0] if len(x) > 0 else \"\")\n",
    "movies[\"mood_or_tone\"] = movies[\"mood_or_tone\"].fillna(\"[]\").apply(lambda x: eval(x)).apply(lambda x: x[0] if len(x) > 0 else \"\")\n",
    "movies[\"credit_scenes\"] = movies[\"credit_scenes\"].fillna(\"[]\").apply(lambda x: eval(x)).apply(lambda x: x[0] if len(x) > 0 else \"\")\n",
    "# onehot encode plot_characteristics, relationship_types"
   ]
  },
  {
   "cell_type": "code",
   "execution_count": 200,
   "metadata": {},
   "outputs": [],
   "source": [
    "movies.to_csv(r\"./movies_step3.csv\", index=False)\n",
    "movies.to_excel(r\"./movies_step3.xlsx\", index=False)"
   ]
  },
  {
   "cell_type": "markdown",
   "metadata": {},
   "source": [
    "# value normalization after exploration"
   ]
  },
  {
   "cell_type": "code",
   "execution_count": 224,
   "metadata": {},
   "outputs": [],
   "source": [
    "movies = pd.read_csv(r\"./movies_step3.csv\")"
   ]
  },
  {
   "cell_type": "code",
   "execution_count": null,
   "metadata": {},
   "outputs": [],
   "source": [
    "movies[\"studio\"].unique()"
   ]
  },
  {
   "cell_type": "code",
   "execution_count": 229,
   "metadata": {},
   "outputs": [],
   "source": [
    "movies[\"studio\"] = movies[\"studio\"].replace({\n",
    "    \"netflix-studios\": \"netflix\",\n",
    "    \"20th-century-fox-animation\": \"20th-century-fox\",\n",
    "    \"colombia-pictures\": \"columbia-pictures\",\n",
    "    \"dreamworks-animation\": \"dreamworks\",\n",
    "    \"lions-gate-films\": \"lionsgate\",\n",
    "    \"metro-goldwyn-mayer\": \"mgm\",\n",
    "    \"samuel-goldwyn-films\": \"mgm\",\n",
    "    \"paramount-players\": \"paramount\",\n",
    "    \"sony-pictures-classics\": \"sony\",\n",
    "    \"sony-pictures-entertainment\": \"sony\",\n",
    "    \"tristar-pictures\": \"tristar\",\n",
    "    \"tristar-productions\": \"tristar\",\n",
    "    \"walt-disney-animation\": \"disney\",\n",
    "    \"walt-disney-animation-studios\": \"disney\",\n",
    "    \"walt-disney-studios\": \"disney\",\n",
    "    \"walt-disney-studios-motion-pictures\": \"disney\",\n",
    "    \"disney-plus\": \"disney\",\n",
    "    \"warner-bros-animation\": \"warner-bros\",\n",
    "    \"warner-bros-pictures\": \"warner-bros\",\n",
    "})"
   ]
  },
  {
   "cell_type": "code",
   "execution_count": null,
   "metadata": {},
   "outputs": [],
   "source": [
    "movies[\"studio\"].value_counts().head(40)"
   ]
  },
  {
   "cell_type": "code",
   "execution_count": 217,
   "metadata": {},
   "outputs": [],
   "source": [
    "movies.to_csv(r\"./movies_step4.csv\", index=False)\n",
    "movies.to_excel(r\"./movies_step4.xlsx\", index=False)"
   ]
  },
  {
   "cell_type": "code",
   "execution_count": 231,
   "metadata": {},
   "outputs": [],
   "source": [
    "movies.to_json(r\"./movies_step4.json\", orient=\"records\")"
   ]
  },
  {
   "cell_type": "code",
   "execution_count": null,
   "metadata": {},
   "outputs": [],
   "source": []
  }
 ],
 "metadata": {
  "kernelspec": {
   "display_name": "base",
   "language": "python",
   "name": "python3"
  },
  "language_info": {
   "codemirror_mode": {
    "name": "ipython",
    "version": 3
   },
   "file_extension": ".py",
   "mimetype": "text/x-python",
   "name": "python",
   "nbconvert_exporter": "python",
   "pygments_lexer": "ipython3",
   "version": "3.9.7"
  }
 },
 "nbformat": 4,
 "nbformat_minor": 2
}
