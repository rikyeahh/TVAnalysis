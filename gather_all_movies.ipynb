{
 "cells": [
  {
   "cell_type": "code",
   "execution_count": 2,
   "metadata": {},
   "outputs": [],
   "source": [
    "from dotenv import load_dotenv\n",
    "import os\n",
    "import tvdb_v4_official\n",
    "import pandas as pd\n",
    "import tqdm\n",
    "\n",
    "load_dotenv()\n",
    "tvdb = tvdb_v4_official.TVDB(os.getenv('TVDB_API_KEY'))"
   ]
  },
  {
   "cell_type": "code",
   "execution_count": 1,
   "metadata": {},
   "outputs": [
    {
     "name": "stderr",
     "output_type": "stream",
     "text": [
      " 39%|███▊      | 60095/155210 [4:29:42<7:31:58,  3.51it/s]  "
     ]
    }
   ],
   "source": [
    "res = []\n",
    "start_from = 264000\n",
    "for i in tqdm.tqdm(range(start_from, 363_210), total=363_210 - start_from):\n",
    "    try:\n",
    "        data = tvdb.get_movie_extended(i)\n",
    "    except:\n",
    "        continue\n",
    "    res.append(data)\n",
    "    # save results every 1000 requests\n",
    "    if i % 1000 == 0:\n",
    "        pd.DataFrame(res).to_csv(f'all_movies\\\\all_movies_{i}.csv', index=False)\n",
    "        res = []"
   ]
  },
  {
   "cell_type": "code",
   "execution_count": null,
   "metadata": {},
   "outputs": [],
   "source": []
  }
 ],
 "metadata": {
  "kernelspec": {
   "display_name": "base",
   "language": "python",
   "name": "python3"
  },
  "language_info": {
   "codemirror_mode": {
    "name": "ipython",
    "version": 3
   },
   "file_extension": ".py",
   "mimetype": "text/x-python",
   "name": "python",
   "nbconvert_exporter": "python",
   "pygments_lexer": "ipython3",
   "version": "3.9.7"
  }
 },
 "nbformat": 4,
 "nbformat_minor": 2
}
